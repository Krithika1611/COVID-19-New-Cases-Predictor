{
  "nbformat": 4,
  "nbformat_minor": 0,
  "metadata": {
    "colab": {
      "provenance": [],
      "authorship_tag": "ABX9TyMI36A49alj/wU4gOOfJvcB",
      "include_colab_link": true
    },
    "kernelspec": {
      "name": "python3",
      "display_name": "Python 3"
    },
    "language_info": {
      "name": "python"
    }
  },
  "cells": [
    {
      "cell_type": "markdown",
      "metadata": {
        "id": "view-in-github",
        "colab_type": "text"
      },
      "source": [
        "<a href=\"https://colab.research.google.com/github/Krithika1611/COVID-19-New-Cases-Predictor/blob/main/COVID_19_Prediction.ipynb\" target=\"_parent\"><img src=\"https://colab.research.google.com/assets/colab-badge.svg\" alt=\"Open In Colab\"/></a>"
      ]
    },
    {
      "cell_type": "code",
      "execution_count": null,
      "metadata": {
        "id": "JGGt1WohbvPN"
      },
      "outputs": [],
      "source": [
        "import pandas as pd\n",
        "import numpy as np"
      ]
    },
    {
      "cell_type": "code",
      "source": [
        "\n",
        "from sklearn.model_selection import train_test_split\n",
        "from sklearn.linear_model import LinearRegression\n",
        "from sklearn.metrics import r2_score, mean_squared_error\n",
        "from sklearn.impute import SimpleImputer\n",
        "\n",
        "\n",
        "# Load the dataset\n",
        "file_path = '/content/covid.csv'  # Update this path if needed\n",
        "covid_data = pd.read_csv(file_path)\n",
        "\n",
        "# Selecting features potentially relevant to predicting new cases\n",
        "features = ['total_cases', 'total_deaths', 'total_cases_per_million',\n",
        "            'total_deaths_per_million', 'population', 'population_density',\n",
        "            'median_age', 'gdp_per_capita', 'cvd_death_rate', 'diabetes_prevalence']\n",
        "\n",
        "# Target variable\n",
        "target = 'new_cases'\n",
        "\n",
        "# Filtering the dataset for selected features and the target variable\n",
        "covid_data_filtered = covid_data[features + [target]]\n",
        "\n",
        "# Handle missing data by imputing with the mean of the column\n",
        "imputer = SimpleImputer(strategy='mean')\n",
        "covid_data_imputed = pd.DataFrame(imputer.fit_transform(covid_data_filtered), columns=covid_data_filtered.columns)\n",
        "\n",
        "# Splitting data into training and testing sets\n",
        "X = covid_data_imputed[features]\n",
        "y = covid_data_imputed[target]\n",
        "\n",
        "X_train, X_test, y_train, y_test = train_test_split(X, y, test_size=0.2, random_state=42)\n",
        "\n",
        "# Building the linear regression model\n",
        "model = LinearRegression()\n",
        "model.fit(X_train, y_train)\n",
        "\n",
        "# Making predictions on the test set\n",
        "y_pred = model.predict(X_test)\n",
        "\n",
        "# Evaluating the model\n",
        "r2 = r2_score(y_test, y_pred)\n",
        "mse = mean_squared_error(y_test, y_pred)\n",
        "rmse = np.sqrt(mse)\n",
        "\n",
        "print(f\"R^2: {r2}\")\n",
        "print(f\"RMSE: {rmse}\")\n"
      ],
      "metadata": {
        "colab": {
          "base_uri": "https://localhost:8080/"
        },
        "id": "onD6HbxnhqJl",
        "outputId": "fb2a10e4-f6c3-401b-fbed-7b2468eb4993"
      },
      "execution_count": null,
      "outputs": [
        {
          "output_type": "stream",
          "name": "stdout",
          "text": [
            "R^2: 0.9091367654153426\n",
            "RMSE: 1507.7440142702326\n"
          ]
        }
      ]
    }
  ]
}